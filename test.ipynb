{
 "cells": [
  {
   "cell_type": "code",
   "execution_count": 3,
   "metadata": {},
   "outputs": [
    {
     "name": "stdout",
     "output_type": "stream",
     "text": [
      "functools.partial(<function gpt at 0x000002462FB9A670>, model='meta-llama-3.1-8b-instruct@q4_k_m', temperature=0.7, api_base='http://127.0.0.1:11451/v1')\n"
     ]
    },
    {
     "name": "stdout",
     "output_type": "stream",
     "text": [
      "-- new_ys --: ('5 + 6 = 11 (left: 4 10 11)\\n', '4 + 5 = 9 (left: 6 9 10)\\n', '6 - 4 = 2 (left: 2 5 10)\\n', '10 / 5 = 2 (left: 2 4 6)\\n', '6 - 5 = 1 (left: 1 4 10)\\n')\n",
      "-- sol values --: (0.001, 0.0, 0.0, 0.0, 0.0)\n",
      "-- choices --: ['5 + 6 = 11 (left: 4 10 11)\\n', '4 + 5 = 9 (left: 6 9 10)\\n', '6 - 4 = 2 (left: 2 5 10)\\n', '10 / 5 = 2 (left: 2 4 6)\\n', '6 - 5 = 1 (left: 1 4 10)\\n']\n",
      "\n"
     ]
    },
    {
     "data": {
      "text/plain": [
       "(['5 + 6 = 11 (left: 4 10 11)\\n',\n",
       "  '4 + 5 = 9 (left: 6 9 10)\\n',\n",
       "  '6 - 4 = 2 (left: 2 5 10)\\n',\n",
       "  '10 / 5 = 2 (left: 2 4 6)\\n',\n",
       "  '6 - 5 = 1 (left: 1 4 10)\\n'],\n",
       " {'steps': [{'client_name': 'local_client',\n",
       "    'api_base': 'http://127.0.0.1:11451/v1',\n",
       "    'model': 'meta-llama-3.1-8b-instruct@q4_k_m',\n",
       "    'step': 0,\n",
       "    'x': '4 5 6 10',\n",
       "    'ys': [''],\n",
       "    'new_ys': ['4 + 5 = 9 (left: 6 9 10)\\n',\n",
       "     '5 + 6 = 11 (left: 4 10 11)\\n',\n",
       "     '6 - 4 = 2 (left: 2 5 10)\\n',\n",
       "     '10 / 5 = 2 (left: 2 4 6)\\n',\n",
       "     '6 - 5 = 1 (left: 1 4 10)\\n'],\n",
       "    'values': [0.0, 0.001, 0.0, 0.0, 0.0],\n",
       "    'select_new_ys': ['5 + 6 = 11 (left: 4 10 11)\\n',\n",
       "     '4 + 5 = 9 (left: 6 9 10)\\n',\n",
       "     '6 - 4 = 2 (left: 2 5 10)\\n',\n",
       "     '10 / 5 = 2 (left: 2 4 6)\\n',\n",
       "     '6 - 5 = 1 (left: 1 4 10)\\n']}]},\n",
       " {'all': [28.20975637435913],\n",
       "  'generate': [16.9836003780365],\n",
       "  'eval': [11.225155591964722]})"
      ]
     },
     "execution_count": 3,
     "metadata": {},
     "output_type": "execute_result"
    }
   ],
   "source": [
    "import argparse\n",
    "import src.tot.methods.bfs as bfs\n",
    "import src.tot.tasks \n",
    "from src.tot.tasks import get_task\n",
    "\n",
    "# 模拟命令行参数\n",
    "args = argparse.Namespace(\n",
    "    task=\"game24\",\n",
    "    task_start_index=900,\n",
    "    task_end_index=901,\n",
    "    method_generate=\"propose\",\n",
    "    method_evaluate=\"value\",\n",
    "    method_select=\"greedy\",\n",
    "    n_evaluate_sample=3,\n",
    "    n_select_sample=5,\n",
    "    check_format=True,\n",
    "    eval_rule=True,\n",
    "    temperature=0.7,  # 假设温度参数\n",
    "    localbackend=\"local_model\",  # 假设本地模型名称\n",
    "    remotebackend=\"remote_model\"  # 假设远程模型名称\n",
    ")\n",
    "\n",
    "# 模拟任务\n",
    "task = get_task(args.task)\n",
    "current_task = task.get_input(args.task_start_index)\n",
    "\n",
    "# 模拟本地模型\n",
    "model_dict = {\n",
    "    \"client_name\": \"local_client\",\n",
    "    \"api_base\": \"http://127.0.0.1:11451/v1\",\n",
    "    \"api_key\": \"lm-studio\",\n",
    "    \"model\": \"meta-llama-3.1-8b-instruct@q4_k_m\",\n",
    "}\n",
    "\n",
    "\n",
    "bfs.client_solve(\n",
    "    args,\n",
    "    task,\n",
    "    current_task,\n",
    "    ys=[\"\"],\n",
    "    step=0,\n",
    "    api_base = model_dict[\"api_base\"],\n",
    "    api_key=model_dict[\"api_key\"],\n",
    "    model=model_dict[\"model\"],\n",
    "    client_name=model_dict[\"client_name\"],\n",
    "    to_print=True\n",
    ")\n"
   ]
  },
  {
   "cell_type": "code",
   "execution_count": 1,
   "metadata": {},
   "outputs": [
    {
     "data": {
      "text/plain": [
       "[['4 + 10 = 14 (left: 5 6 14)\\n',\n",
       "  '4 + 5 = 9 (left: 6 9 10)\\n',\n",
       "  '4 * 5 = 20 (left: 6 10 20)\\n'],\n",
       " ['10 - 4 = 6 (left: 5 6 6)\\n', '4 + 6 = 10 (left: 5 10 10)\\n']]"
      ]
     },
     "execution_count": 1,
     "metadata": {},
     "output_type": "execute_result"
    }
   ],
   "source": [
    "from tot.methods.bfs import assign_task\n",
    "\n",
    "ys = ['4 + 10 = 14 (left: 5 6 14)\\n', '10 - 4 = 6 (left: 5 6 6)\\n', '4 + 5 = 9 (left: 6 9 10)\\n', '4 + 6 = 10 (left: 5 10 10)\\n', '4 * 5 = 20 (left: 6 10 20)\\n']\n",
    "model_list = [\n",
    "    {\n",
    "        \"client_name\": \"local_client\",\n",
    "        \"api_base\": \"http://127.0.0.1:11451/v1\",\n",
    "        \"api_key\": \"lm-studio\",\n",
    "        \"model\": \"meta-llama-3.1-8b-instruct@q4_k_m\",\n",
    "    },\n",
    "    {\n",
    "        \"client_name\": \"remote_client\",\n",
    "        \"api_base\": \"http://158.132.255.40:1234/v1\",\n",
    "        \"api_key\": \"lm-studio\",\n",
    "        \"model\": \"phi-3-medium-4k-instruct\",\n",
    "    },\n",
    "]\n",
    "\n",
    "\n",
    "assign_task(model_list, ys)"
   ]
  }
 ],
 "metadata": {
  "kernelspec": {
   "display_name": "ToT",
   "language": "python",
   "name": "python3"
  },
  "language_info": {
   "codemirror_mode": {
    "name": "ipython",
    "version": 3
   },
   "file_extension": ".py",
   "mimetype": "text/x-python",
   "name": "python",
   "nbconvert_exporter": "python",
   "pygments_lexer": "ipython3",
   "version": "3.9.19"
  }
 },
 "nbformat": 4,
 "nbformat_minor": 2
}
