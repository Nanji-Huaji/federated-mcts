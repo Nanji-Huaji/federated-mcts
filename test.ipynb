{
 "cells": [
  {
   "cell_type": "code",
   "execution_count": 7,
   "metadata": {},
   "outputs": [
    {
     "name": "stdout",
     "output_type": "stream",
     "text": [
      "functools.partial(<function gpt at 0x000001940B680F70>, model='bartowski/Phi-3-medium-128k-instruct-GGUF', temperature=0.9, api_base='http://127.0.0.1:11451/v1')\n",
      "-- new_ys --: ('4 * 5 = 20 (left: 6 10 20)\\n', '4 + 5 = 9 (left: 6 9 10)\\n', '5 * 6 = 30 (left: 4 10 30)\\n', '10 - 4 = 6 (left: 5 6 6)\\n', '4 + 6 = 10 (left: 5 10 10)\\n', '5 * 10 = 50 (left: 4 6 50)\\n', '5 + 6 = 11 (left: 4 10 11)\\n')\n",
      "-- sol values --: (0.001, 0.0, 0.0, 0.0, 0.0, 0.0, 0.0)\n",
      "-- choices --: ['4 * 5 = 20 (left: 6 10 20)\\n', '4 + 5 = 9 (left: 6 9 10)\\n', '5 * 6 = 30 (left: 4 10 30)\\n', '10 - 4 = 6 (left: 5 6 6)\\n', '4 + 6 = 10 (left: 5 10 10)\\n']\n",
      "\n"
     ]
    }
   ],
   "source": [
    "import itertools\n",
    "import numpy as np\n",
    "from functools import partial\n",
    "from tot.models import gpt\n",
    "import os, re\n",
    "from tot.pattern_match import check_and_fix_last_line\n",
    "import time\n",
    "import requests\n",
    "from tot.methods.bfs import *\n",
    "from tot.tasks import get_task\n",
    "import argparse\n",
    "\n",
    "\n",
    "\n",
    "def parse_args():\n",
    "    args = argparse.ArgumentParser()\n",
    "    args.add_argument(\"--temperature\", type=float, default=0.9)\n",
    "    args.add_argument(\"--task\", type=str, required=True, choices=[\"game24\", \"text\", \"crosswords\"], default=\"game24\")\n",
    "    args.add_argument(\"--task_start_index\", type=int, default=900)\n",
    "    args.add_argument(\"--task_end_index\", type=int, default=901)\n",
    "    args.add_argument(\"--prompt_sample\", type=str, choices=[\"standard\", \"cot\"], default=\"standard\")\n",
    "    args.add_argument(\"--method_generate\", type=str, choices=[\"sample\", \"propose\"], default=\"propose\")\n",
    "    args.add_argument(\"--method_evaluate\", type=str, choices=[\"value\", \"vote\"], default=\"value\")\n",
    "    args.add_argument(\"--method_select\", type=str, choices=[\"sample\", \"greedy\"], default=\"greedy\")\n",
    "    args.add_argument(\"--n_evaluate_sample\", type=int, default=3)\n",
    "    args.add_argument(\"--n_select_sample\", type=int, default=5)\n",
    "    args.add_argument(\"--check_format\", action='store_true')\n",
    "    args.add_argument(\"--eval_rule\", action='store_true')\n",
    "    args.add_argument(\"--remotebackend\", type=str, default=\"meta-llama-3.1-8b-instruct@q4_k_m\")\n",
    "    args.add_argument(\"--localbackend\", type=str, default=\"bartowski/Phi-3-medium-128k-instruct-GGUF\")\n",
    "    return args.parse_args([\n",
    "        \"--task\", \"game24\",\n",
    "        \"--task_start_index\", \"900\",\n",
    "        \"--task_end_index\", \"901\",\n",
    "        \"--method_generate\", \"propose\",\n",
    "        \"--method_evaluate\", \"value\",\n",
    "        \"--method_select\", \"greedy\",\n",
    "        \"--n_evaluate_sample\", \"3\",\n",
    "        \"--n_select_sample\", \"5\",\n",
    "        \"--check_format\",\n",
    "        \"--eval_rule\", \n",
    "    ])\n",
    "\n",
    "\n",
    "args = parse_args()\n",
    "\n",
    "\n",
    "solve_data = solve_by_one_round(\n",
    "    args,\n",
    "    task=get_task(args.task),\n",
    "    current_task= \"4 5 6 10\",\n",
    "    step=0,\n",
    "    api_base=\"http://127.0.0.1:11451/v1\",\n",
    "    api_key=\"lm-studio\",\n",
    "    model=\"bartowski/Phi-3-medium-128k-instruct-GGUF\",\n",
    "    client_name=\"local\",\n",
    "    to_print=True,\n",
    ")\n"
   ]
  },
  {
   "cell_type": "code",
   "execution_count": 8,
   "metadata": {},
   "outputs": [
    {
     "ename": "SyntaxError",
     "evalue": "invalid syntax (3116662629.py, line 8)",
     "output_type": "error",
     "traceback": [
      "\u001b[1;36m  Input \u001b[1;32mIn [8]\u001b[1;36m\u001b[0m\n\u001b[1;33m    b = **a\u001b[0m\n\u001b[1;37m        ^\u001b[0m\n\u001b[1;31mSyntaxError\u001b[0m\u001b[1;31m:\u001b[0m invalid syntax\n"
     ]
    }
   ],
   "source": [
    "a = {\n",
    "        \"client_name\": \"local_client\",\n",
    "        \"api_base\": \"http://127.0.0.1:11451/v1\",\n",
    "        \"api_key\": \"lm-studio\",\n",
    "        \"model\": \"meta-llama-3.1-8b-instruct@q4_k_m\",\n",
    "    }\n"
   ]
  },
  {
   "cell_type": "code",
   "execution_count": 10,
   "metadata": {},
   "outputs": [
    {
     "data": {
      "text/plain": [
       "[['4 5 6 10', '5 5 5 5', '1 1 1 1'], ['1 1 3 8', '1 2 3 4']]"
      ]
     },
     "execution_count": 10,
     "metadata": {},
     "output_type": "execute_result"
    }
   ],
   "source": [
    "def assign_task(model_list, ys, **kwargs):\n",
    "    \"\"\"\n",
    "    input: ys: list of str which are the selected output candidates\n",
    "    **kwargs: a dict of the dicts of api_base, model, api_key, client_name\n",
    "    output: a list, like that\n",
    "    [[task1, task2, task3], [task4, task5, task6], [task7, task8, task9]]\n",
    "    tasks are assigned to different clients with the same index in the model_list\n",
    "    \"\"\"\n",
    "    # 1:1 assignment\n",
    "    task_list = []\n",
    "    for i in range(len(model_list)):\n",
    "        task_list.append([])\n",
    "    for i in range(len(ys)):\n",
    "        task_list[i % len(model_list)].append(ys[i])\n",
    "    return task_list\n",
    "\n",
    "model_list = [\n",
    "    {\n",
    "        \"client_name\": \"local_client\",\n",
    "        \"api_base\": \"http://127.0.0.1:11451/v1\",\n",
    "        \"api_key\": \"lm-studio\",\n",
    "        \"model\": \"meta-llama-3.1-8b-instruct@q4_k_m\",\n",
    "    },\n",
    "    {\n",
    "        \"client_name\": \"remote_client\",\n",
    "        \"api_base\": \"http://158.132.255.40:1234/v1\",\n",
    "        \"api_key\": \"lm-studio\",\n",
    "        \"model\": \"qwen2.5-32b-instruct\",\n",
    "    },\n",
    "]\n",
    "\n",
    "ys = [\"4 5 6 10\", \"1 1 3 8\", \"5 5 5 5\", \"1 2 3 4\", \"1 1 1 1\"]\n",
    "assign_task(model_list, ys)"
   ]
  }
 ],
 "metadata": {
  "kernelspec": {
   "display_name": "ToT",
   "language": "python",
   "name": "python3"
  },
  "language_info": {
   "codemirror_mode": {
    "name": "ipython",
    "version": 3
   },
   "file_extension": ".py",
   "mimetype": "text/x-python",
   "name": "python",
   "nbconvert_exporter": "python",
   "pygments_lexer": "ipython3",
   "version": "3.9.19"
  }
 },
 "nbformat": 4,
 "nbformat_minor": 2
}
